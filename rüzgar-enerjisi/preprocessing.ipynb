{
 "cells": [
  {
   "cell_type": "code",
   "execution_count": 37,
   "id": "7eac60bc-7c9e-4bef-8781-adbaaa3fe11c",
   "metadata": {},
   "outputs": [],
   "source": [
    "import pandas as pd \n",
    "import numpy as np\n",
    "import matplotlib.pyplot as plt\n",
    "import seaborn as sns"
   ]
  },
  {
   "cell_type": "code",
   "execution_count": 39,
   "id": "d0061017-ae6f-4d92-b0f0-aba411af6c8f",
   "metadata": {},
   "outputs": [],
   "source": [
    "df = pd.read_csv(\"T1total.csv\")"
   ]
  },
  {
   "cell_type": "code",
   "execution_count": 41,
   "id": "da8b0639-a247-4c0e-9fe0-2abf9ec96340",
   "metadata": {},
   "outputs": [
    {
     "data": {
      "text/html": [
       "<div>\n",
       "<style scoped>\n",
       "    .dataframe tbody tr th:only-of-type {\n",
       "        vertical-align: middle;\n",
       "    }\n",
       "\n",
       "    .dataframe tbody tr th {\n",
       "        vertical-align: top;\n",
       "    }\n",
       "\n",
       "    .dataframe thead th {\n",
       "        text-align: right;\n",
       "    }\n",
       "</style>\n",
       "<table border=\"1\" class=\"dataframe\">\n",
       "  <thead>\n",
       "    <tr style=\"text-align: right;\">\n",
       "      <th></th>\n",
       "      <th>TimeStamp</th>\n",
       "      <th>WindSpeed</th>\n",
       "      <th>WindDirection</th>\n",
       "      <th>PitchAngle</th>\n",
       "      <th>Temperature</th>\n",
       "      <th>Power</th>\n",
       "    </tr>\n",
       "  </thead>\n",
       "  <tbody>\n",
       "    <tr>\n",
       "      <th>0</th>\n",
       "      <td>2019-01-01 00:00:00</td>\n",
       "      <td>5.2</td>\n",
       "      <td>147.600006</td>\n",
       "      <td>-1.8</td>\n",
       "      <td>5.0</td>\n",
       "      <td>180.899994</td>\n",
       "    </tr>\n",
       "    <tr>\n",
       "      <th>1</th>\n",
       "      <td>2019-01-01 00:10:00</td>\n",
       "      <td>5.4</td>\n",
       "      <td>138.600006</td>\n",
       "      <td>-2.1</td>\n",
       "      <td>5.0</td>\n",
       "      <td>213.300003</td>\n",
       "    </tr>\n",
       "    <tr>\n",
       "      <th>2</th>\n",
       "      <td>2019-01-01 00:20:00</td>\n",
       "      <td>5.0</td>\n",
       "      <td>141.500000</td>\n",
       "      <td>-1.7</td>\n",
       "      <td>5.0</td>\n",
       "      <td>164.100006</td>\n",
       "    </tr>\n",
       "    <tr>\n",
       "      <th>3</th>\n",
       "      <td>2019-01-01 00:30:00</td>\n",
       "      <td>3.5</td>\n",
       "      <td>132.000000</td>\n",
       "      <td>0.6</td>\n",
       "      <td>5.0</td>\n",
       "      <td>21.799999</td>\n",
       "    </tr>\n",
       "    <tr>\n",
       "      <th>4</th>\n",
       "      <td>2019-01-01 00:40:00</td>\n",
       "      <td>3.8</td>\n",
       "      <td>136.899994</td>\n",
       "      <td>0.0</td>\n",
       "      <td>5.0</td>\n",
       "      <td>48.299999</td>\n",
       "    </tr>\n",
       "  </tbody>\n",
       "</table>\n",
       "</div>"
      ],
      "text/plain": [
       "             TimeStamp  WindSpeed  WindDirection  PitchAngle  Temperature  \\\n",
       "0  2019-01-01 00:00:00        5.2     147.600006        -1.8          5.0   \n",
       "1  2019-01-01 00:10:00        5.4     138.600006        -2.1          5.0   \n",
       "2  2019-01-01 00:20:00        5.0     141.500000        -1.7          5.0   \n",
       "3  2019-01-01 00:30:00        3.5     132.000000         0.6          5.0   \n",
       "4  2019-01-01 00:40:00        3.8     136.899994         0.0          5.0   \n",
       "\n",
       "        Power  \n",
       "0  180.899994  \n",
       "1  213.300003  \n",
       "2  164.100006  \n",
       "3   21.799999  \n",
       "4   48.299999  "
      ]
     },
     "execution_count": 41,
     "metadata": {},
     "output_type": "execute_result"
    }
   ],
   "source": [
    "df.head()"
   ]
  },
  {
   "cell_type": "code",
   "execution_count": 43,
   "id": "457f5d58-6068-4450-af11-22df8f38c64f",
   "metadata": {},
   "outputs": [],
   "source": [
    "df['TimeStamp'] = pd.to_datetime(df['TimeStamp'])\n"
   ]
  },
  {
   "cell_type": "code",
   "execution_count": 45,
   "id": "eafe50e1-ca89-43e6-a990-ee943c485936",
   "metadata": {},
   "outputs": [],
   "source": [
    "df_filtered = df[df['TimeStamp'] >= '2022-01-01 00:00:00']\n"
   ]
  },
  {
   "cell_type": "code",
   "execution_count": 47,
   "id": "f2ee139c-f8c8-4e0b-bd40-53be977bb01a",
   "metadata": {},
   "outputs": [
    {
     "data": {
      "text/html": [
       "<div>\n",
       "<style scoped>\n",
       "    .dataframe tbody tr th:only-of-type {\n",
       "        vertical-align: middle;\n",
       "    }\n",
       "\n",
       "    .dataframe tbody tr th {\n",
       "        vertical-align: top;\n",
       "    }\n",
       "\n",
       "    .dataframe thead th {\n",
       "        text-align: right;\n",
       "    }\n",
       "</style>\n",
       "<table border=\"1\" class=\"dataframe\">\n",
       "  <thead>\n",
       "    <tr style=\"text-align: right;\">\n",
       "      <th></th>\n",
       "      <th>TimeStamp</th>\n",
       "      <th>WindSpeed</th>\n",
       "      <th>WindDirection</th>\n",
       "      <th>PitchAngle</th>\n",
       "      <th>Temperature</th>\n",
       "      <th>Power</th>\n",
       "    </tr>\n",
       "  </thead>\n",
       "  <tbody>\n",
       "    <tr>\n",
       "      <th>157824</th>\n",
       "      <td>2022-01-01 00:00:00</td>\n",
       "      <td>8.1</td>\n",
       "      <td>138.000000</td>\n",
       "      <td>-2.7</td>\n",
       "      <td>12.0</td>\n",
       "      <td>844.000000</td>\n",
       "    </tr>\n",
       "    <tr>\n",
       "      <th>157825</th>\n",
       "      <td>2022-01-01 00:10:00</td>\n",
       "      <td>7.4</td>\n",
       "      <td>135.000000</td>\n",
       "      <td>-2.6</td>\n",
       "      <td>11.0</td>\n",
       "      <td>689.799988</td>\n",
       "    </tr>\n",
       "    <tr>\n",
       "      <th>157826</th>\n",
       "      <td>2022-01-01 00:20:00</td>\n",
       "      <td>8.1</td>\n",
       "      <td>131.000000</td>\n",
       "      <td>-2.7</td>\n",
       "      <td>11.0</td>\n",
       "      <td>871.000000</td>\n",
       "    </tr>\n",
       "    <tr>\n",
       "      <th>157827</th>\n",
       "      <td>2022-01-01 00:30:00</td>\n",
       "      <td>8.0</td>\n",
       "      <td>134.000000</td>\n",
       "      <td>-2.8</td>\n",
       "      <td>12.0</td>\n",
       "      <td>846.799988</td>\n",
       "    </tr>\n",
       "    <tr>\n",
       "      <th>157828</th>\n",
       "      <td>2022-01-01 00:40:00</td>\n",
       "      <td>8.1</td>\n",
       "      <td>133.199997</td>\n",
       "      <td>-2.7</td>\n",
       "      <td>12.0</td>\n",
       "      <td>881.400024</td>\n",
       "    </tr>\n",
       "  </tbody>\n",
       "</table>\n",
       "</div>"
      ],
      "text/plain": [
       "                 TimeStamp  WindSpeed  WindDirection  PitchAngle  Temperature  \\\n",
       "157824 2022-01-01 00:00:00        8.1     138.000000        -2.7         12.0   \n",
       "157825 2022-01-01 00:10:00        7.4     135.000000        -2.6         11.0   \n",
       "157826 2022-01-01 00:20:00        8.1     131.000000        -2.7         11.0   \n",
       "157827 2022-01-01 00:30:00        8.0     134.000000        -2.8         12.0   \n",
       "157828 2022-01-01 00:40:00        8.1     133.199997        -2.7         12.0   \n",
       "\n",
       "             Power  \n",
       "157824  844.000000  \n",
       "157825  689.799988  \n",
       "157826  871.000000  \n",
       "157827  846.799988  \n",
       "157828  881.400024  "
      ]
     },
     "execution_count": 47,
     "metadata": {},
     "output_type": "execute_result"
    }
   ],
   "source": [
    "df_filtered.head()\n"
   ]
  },
  {
   "cell_type": "code",
   "execution_count": 52,
   "id": "c0339bbe-6ca8-4415-9e8e-c742773a5b78",
   "metadata": {},
   "outputs": [
    {
     "name": "stdout",
     "output_type": "stream",
     "text": [
      "<class 'pandas.core.frame.DataFrame'>\n",
      "Index: 34992 entries, 157824 to 192815\n",
      "Data columns (total 6 columns):\n",
      " #   Column         Non-Null Count  Dtype         \n",
      "---  ------         --------------  -----         \n",
      " 0   TimeStamp      34992 non-null  datetime64[ns]\n",
      " 1   WindSpeed      34928 non-null  float64       \n",
      " 2   WindDirection  34928 non-null  float64       \n",
      " 3   PitchAngle     34928 non-null  float64       \n",
      " 4   Temperature    34928 non-null  float64       \n",
      " 5   Power          34928 non-null  float64       \n",
      "dtypes: datetime64[ns](1), float64(5)\n",
      "memory usage: 1.9 MB\n"
     ]
    },
    {
     "data": {
      "text/plain": [
       "TimeStamp         0\n",
       "WindSpeed        64\n",
       "WindDirection    64\n",
       "PitchAngle       64\n",
       "Temperature      64\n",
       "Power            64\n",
       "dtype: int64"
      ]
     },
     "execution_count": 52,
     "metadata": {},
     "output_type": "execute_result"
    }
   ],
   "source": [
    "df_filtered.info()\n",
    "df_filtered.isnull().sum()"
   ]
  },
  {
   "cell_type": "code",
   "execution_count": 54,
   "id": "9ae6ab42-6c28-4e4e-988e-9c8f78de0431",
   "metadata": {},
   "outputs": [
    {
     "name": "stdout",
     "output_type": "stream",
     "text": [
      "<class 'pandas.core.frame.DataFrame'>\n",
      "Index: 34928 entries, 157824 to 192815\n",
      "Data columns (total 6 columns):\n",
      " #   Column         Non-Null Count  Dtype         \n",
      "---  ------         --------------  -----         \n",
      " 0   TimeStamp      34928 non-null  datetime64[ns]\n",
      " 1   WindSpeed      34928 non-null  float64       \n",
      " 2   WindDirection  34928 non-null  float64       \n",
      " 3   PitchAngle     34928 non-null  float64       \n",
      " 4   Temperature    34928 non-null  float64       \n",
      " 5   Power          34928 non-null  float64       \n",
      "dtypes: datetime64[ns](1), float64(5)\n",
      "memory usage: 1.9 MB\n"
     ]
    }
   ],
   "source": [
    "df_filtered_cleaned = df_filtered.dropna()\n",
    "df_filtered_cleaned.info()\n"
   ]
  },
  {
   "cell_type": "code",
   "execution_count": 56,
   "id": "7cfa6054-8c18-43b6-8b3e-37f4d2537649",
   "metadata": {},
   "outputs": [],
   "source": [
    "df_filtered_cleaned.to_csv(\"temizlenmis_veri.csv\", index=False)\n"
   ]
  },
  {
   "cell_type": "code",
   "execution_count": 58,
   "id": "60c21a13-c78b-4d43-9959-d05954d09b02",
   "metadata": {},
   "outputs": [],
   "source": [
    "df_last = pd.read_csv(\"temizlenmis_veri.csv\")"
   ]
  },
  {
   "cell_type": "code",
   "execution_count": 62,
   "id": "71c6184c-24c0-438d-baff-1c71917b4131",
   "metadata": {},
   "outputs": [
    {
     "data": {
      "text/html": [
       "<div>\n",
       "<style scoped>\n",
       "    .dataframe tbody tr th:only-of-type {\n",
       "        vertical-align: middle;\n",
       "    }\n",
       "\n",
       "    .dataframe tbody tr th {\n",
       "        vertical-align: top;\n",
       "    }\n",
       "\n",
       "    .dataframe thead th {\n",
       "        text-align: right;\n",
       "    }\n",
       "</style>\n",
       "<table border=\"1\" class=\"dataframe\">\n",
       "  <thead>\n",
       "    <tr style=\"text-align: right;\">\n",
       "      <th></th>\n",
       "      <th>TimeStamp</th>\n",
       "      <th>WindSpeed</th>\n",
       "      <th>WindDirection</th>\n",
       "      <th>PitchAngle</th>\n",
       "      <th>Temperature</th>\n",
       "      <th>Power</th>\n",
       "    </tr>\n",
       "  </thead>\n",
       "  <tbody>\n",
       "    <tr>\n",
       "      <th>0</th>\n",
       "      <td>2022-01-01 00:00:00</td>\n",
       "      <td>8.1</td>\n",
       "      <td>138.000000</td>\n",
       "      <td>-2.7</td>\n",
       "      <td>12.0</td>\n",
       "      <td>844.000000</td>\n",
       "    </tr>\n",
       "    <tr>\n",
       "      <th>1</th>\n",
       "      <td>2022-01-01 00:10:00</td>\n",
       "      <td>7.4</td>\n",
       "      <td>135.000000</td>\n",
       "      <td>-2.6</td>\n",
       "      <td>11.0</td>\n",
       "      <td>689.799988</td>\n",
       "    </tr>\n",
       "    <tr>\n",
       "      <th>2</th>\n",
       "      <td>2022-01-01 00:20:00</td>\n",
       "      <td>8.1</td>\n",
       "      <td>131.000000</td>\n",
       "      <td>-2.7</td>\n",
       "      <td>11.0</td>\n",
       "      <td>871.000000</td>\n",
       "    </tr>\n",
       "    <tr>\n",
       "      <th>3</th>\n",
       "      <td>2022-01-01 00:30:00</td>\n",
       "      <td>8.0</td>\n",
       "      <td>134.000000</td>\n",
       "      <td>-2.8</td>\n",
       "      <td>12.0</td>\n",
       "      <td>846.799988</td>\n",
       "    </tr>\n",
       "    <tr>\n",
       "      <th>4</th>\n",
       "      <td>2022-01-01 00:40:00</td>\n",
       "      <td>8.1</td>\n",
       "      <td>133.199997</td>\n",
       "      <td>-2.7</td>\n",
       "      <td>12.0</td>\n",
       "      <td>881.400024</td>\n",
       "    </tr>\n",
       "  </tbody>\n",
       "</table>\n",
       "</div>"
      ],
      "text/plain": [
       "             TimeStamp  WindSpeed  WindDirection  PitchAngle  Temperature  \\\n",
       "0  2022-01-01 00:00:00        8.1     138.000000        -2.7         12.0   \n",
       "1  2022-01-01 00:10:00        7.4     135.000000        -2.6         11.0   \n",
       "2  2022-01-01 00:20:00        8.1     131.000000        -2.7         11.0   \n",
       "3  2022-01-01 00:30:00        8.0     134.000000        -2.8         12.0   \n",
       "4  2022-01-01 00:40:00        8.1     133.199997        -2.7         12.0   \n",
       "\n",
       "        Power  \n",
       "0  844.000000  \n",
       "1  689.799988  \n",
       "2  871.000000  \n",
       "3  846.799988  \n",
       "4  881.400024  "
      ]
     },
     "execution_count": 62,
     "metadata": {},
     "output_type": "execute_result"
    }
   ],
   "source": [
    "df_last.head()"
   ]
  },
  {
   "cell_type": "code",
   "execution_count": 64,
   "id": "de9292ea-c30e-4160-9c1a-b4e163506146",
   "metadata": {},
   "outputs": [],
   "source": [
    "df_last_no_timestamp = df_last.drop(columns = [\"TimeStamp\"])"
   ]
  },
  {
   "cell_type": "code",
   "execution_count": 66,
   "id": "1d5921ee-46c2-461b-a608-348c7dc4d863",
   "metadata": {},
   "outputs": [
    {
     "data": {
      "text/html": [
       "<div>\n",
       "<style scoped>\n",
       "    .dataframe tbody tr th:only-of-type {\n",
       "        vertical-align: middle;\n",
       "    }\n",
       "\n",
       "    .dataframe tbody tr th {\n",
       "        vertical-align: top;\n",
       "    }\n",
       "\n",
       "    .dataframe thead th {\n",
       "        text-align: right;\n",
       "    }\n",
       "</style>\n",
       "<table border=\"1\" class=\"dataframe\">\n",
       "  <thead>\n",
       "    <tr style=\"text-align: right;\">\n",
       "      <th></th>\n",
       "      <th>WindSpeed</th>\n",
       "      <th>WindDirection</th>\n",
       "      <th>PitchAngle</th>\n",
       "      <th>Temperature</th>\n",
       "      <th>Power</th>\n",
       "    </tr>\n",
       "  </thead>\n",
       "  <tbody>\n",
       "    <tr>\n",
       "      <th>0</th>\n",
       "      <td>8.1</td>\n",
       "      <td>138.000000</td>\n",
       "      <td>-2.7</td>\n",
       "      <td>12.0</td>\n",
       "      <td>844.000000</td>\n",
       "    </tr>\n",
       "    <tr>\n",
       "      <th>1</th>\n",
       "      <td>7.4</td>\n",
       "      <td>135.000000</td>\n",
       "      <td>-2.6</td>\n",
       "      <td>11.0</td>\n",
       "      <td>689.799988</td>\n",
       "    </tr>\n",
       "    <tr>\n",
       "      <th>2</th>\n",
       "      <td>8.1</td>\n",
       "      <td>131.000000</td>\n",
       "      <td>-2.7</td>\n",
       "      <td>11.0</td>\n",
       "      <td>871.000000</td>\n",
       "    </tr>\n",
       "    <tr>\n",
       "      <th>3</th>\n",
       "      <td>8.0</td>\n",
       "      <td>134.000000</td>\n",
       "      <td>-2.8</td>\n",
       "      <td>12.0</td>\n",
       "      <td>846.799988</td>\n",
       "    </tr>\n",
       "    <tr>\n",
       "      <th>4</th>\n",
       "      <td>8.1</td>\n",
       "      <td>133.199997</td>\n",
       "      <td>-2.7</td>\n",
       "      <td>12.0</td>\n",
       "      <td>881.400024</td>\n",
       "    </tr>\n",
       "  </tbody>\n",
       "</table>\n",
       "</div>"
      ],
      "text/plain": [
       "   WindSpeed  WindDirection  PitchAngle  Temperature       Power\n",
       "0        8.1     138.000000        -2.7         12.0  844.000000\n",
       "1        7.4     135.000000        -2.6         11.0  689.799988\n",
       "2        8.1     131.000000        -2.7         11.0  871.000000\n",
       "3        8.0     134.000000        -2.8         12.0  846.799988\n",
       "4        8.1     133.199997        -2.7         12.0  881.400024"
      ]
     },
     "execution_count": 66,
     "metadata": {},
     "output_type": "execute_result"
    }
   ],
   "source": [
    "df_last_no_timestamp.head()\n"
   ]
  },
  {
   "cell_type": "code",
   "execution_count": 68,
   "id": "3ec92b59-0605-492e-815b-1b76a8a42220",
   "metadata": {},
   "outputs": [],
   "source": [
    "df_last_no_timestamp.to_csv(\"last.csv\",index = False)"
   ]
  },
  {
   "cell_type": "code",
   "execution_count": null,
   "id": "2d610217-cf63-43d1-a471-ff5d745dbeec",
   "metadata": {},
   "outputs": [],
   "source": []
  }
 ],
 "metadata": {
  "kernelspec": {
   "display_name": "Python 3 (ipykernel)",
   "language": "python",
   "name": "python3"
  },
  "language_info": {
   "codemirror_mode": {
    "name": "ipython",
    "version": 3
   },
   "file_extension": ".py",
   "mimetype": "text/x-python",
   "name": "python",
   "nbconvert_exporter": "python",
   "pygments_lexer": "ipython3",
   "version": "3.12.4"
  }
 },
 "nbformat": 4,
 "nbformat_minor": 5
}
